{
 "cells": [
  {
   "cell_type": "code",
   "execution_count": null,
   "id": "0ecb5128",
   "metadata": {},
   "outputs": [],
   "source": [
    "! pip install pot\n",
    "! pip install matplotlib\n",
    "! pip install geomloss\n",
    "! pip install torch_geometric\n",
    "! pip install torchdiffeq\n",
    "! pip install wandb\n",
    "! pip install torch_fidelity\n",
    "! pip install kornia\n",
    "! pip install open_clip"
   ]
  }
 ],
 "metadata": {
  "language_info": {
   "name": "python"
  }
 },
 "nbformat": 4,
 "nbformat_minor": 5
}
